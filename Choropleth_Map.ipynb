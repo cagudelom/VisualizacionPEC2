{
 "cells": [
  {
   "cell_type": "markdown",
   "id": "d501f221-4182-4134-b4c4-f69c17cbb406",
   "metadata": {},
   "source": [
    "<div style=\"width: 100%; clear: both;\">\n",
    "<div style=\"float: left; width: 50%;\">\n",
    "<img src=\"http://www.uoc.edu/portal/_resources/common/imatges/marca_UOC/UOC_Masterbrand.jpg\" align=\"left\">\n",
    "</div>\n",
    "<div style=\"float: right; width: 50%;\">\n",
    "<p style=\"margin: 0; padding-top: 22px; text-align:right;\">M2.859 · Visualización de datos · PEC2</p>\n",
    "<p style=\"margin: 0; text-align:right;\">2024-2 · Máster universitario en Ciencia de datos (Data science)</p>\n",
    "</div>\n",
    "</div>\n",
    "<div style=\"width:100%;\">&nbsp;</div>"
   ]
  },
  {
   "cell_type": "markdown",
   "id": "373ac4ab-966f-41ef-86d6-c5ca08439092",
   "metadata": {},
   "source": [
    "<div class=\"alert alert-block alert-info\">\n",
    "<strong>Nombre:</strong>\n",
    "    <strong>Carlos Alberto Agudelo Moncada</strong>\n",
    "</div>"
   ]
  },
  {
   "cell_type": "markdown",
   "id": "d059ba4f-0f08-41a2-9925-8030ef9857a8",
   "metadata": {},
   "source": [
    "**Descripción:** \n",
    "\n",
    "\n",
    "El presente notebook realiza una limpieza de datos del dataset **Cardiovascular Disease Death Rates, Trends, and Excess Death Rates Among US Adults (35+) by County and Age Group – 2010-2020**  que se encuentra en https://healthdata.gov/dataset/Cardiovascular-Disease-Death-Rates-Trends-and-Exce/au45-g5w7/about_data \n",
    "\n",
    "El objetivo es generar un **Choropleth Map** que nos permita visualizar Estados Unidos con sus estados y poder identificar la tasa de muertes por razones cardiacas."
   ]
  },
  {
   "cell_type": "markdown",
   "id": "9ca2b36c-7e75-4678-a40f-7971ed8fd3ef",
   "metadata": {},
   "source": [
    "**Acerca de Dataset:**\n",
    "\n",
    "Este conjunto de datos documenta las tasas de mortalidad por enfermedades cardiovasculares (DCV), las tasas de mortalidad relativa y absoluta excesiva y las tendencias. En concreto, este informe presenta las tendencias durante 2010-2019 y las tasas relativas y absolutas de mortalidad en 2020 por grupos de edad (35-64 años, 65 años y mayores). Todas las estimaciones se generaron utilizando un modelo espaciotemporal bayesiano y un alisado sobre el espacio, el tiempo y los grupos de edad de 10 años. Las tasas están estandarizadas según la edad en grupos de 10 años utilizando la población de los EE.UU., 2010. \n",
    "\n",
    "Fuente de datos: **National Vital Statistics System**."
   ]
  },
  {
   "cell_type": "code",
   "execution_count": 1,
   "id": "16a22bf7-d8a7-48b5-ba1d-b2ebcaf3b45e",
   "metadata": {},
   "outputs": [],
   "source": [
    "import pandas as pd"
   ]
  },
  {
   "cell_type": "code",
   "execution_count": 2,
   "id": "47b25018-ff50-4e33-8357-2674d123d735",
   "metadata": {},
   "outputs": [
    {
     "name": "stdout",
     "output_type": "stream",
     "text": [
      "   LocationID  Year LocationAbbr GeographicLevel DataSource  \\\n",
      "0        1001  2010           AL          County       NVSS   \n",
      "1        1003  2010           AL          County       NVSS   \n",
      "2        1005  2010           AL          County       NVSS   \n",
      "3        1007  2010           AL          County       NVSS   \n",
      "4        1009  2010           AL          County       NVSS   \n",
      "\n",
      "                     Class                         Topic  Data_Value  \\\n",
      "0  Cardiovascular Diseases  Major Cardiovascular Disease       181.0   \n",
      "1  Cardiovascular Diseases  Major Cardiovascular Disease       134.2   \n",
      "2  Cardiovascular Diseases  Major Cardiovascular Disease       223.2   \n",
      "3  Cardiovascular Diseases  Major Cardiovascular Disease       253.6   \n",
      "4  Cardiovascular Diseases  Major Cardiovascular Disease       162.6   \n",
      "\n",
      "  Data_Value_Unit                            Data_Value_Type  \\\n",
      "0     per 100,000  Age-Standardized, Spatially Smoothed Rate   \n",
      "1     per 100,000  Age-Standardized, Spatially Smoothed Rate   \n",
      "2     per 100,000  Age-Standardized, Spatially Smoothed Rate   \n",
      "3     per 100,000  Age-Standardized, Spatially Smoothed Rate   \n",
      "4     per 100,000  Age-Standardized, Spatially Smoothed Rate   \n",
      "\n",
      "  Data_Value_Footnote_Symbol Data_Value_Footnote  Confidence_limit_Low  \\\n",
      "0                        NaN                 NaN                 161.1   \n",
      "1                        NaN                 NaN                 122.6   \n",
      "2                        NaN                 NaN                 193.9   \n",
      "3                        NaN                 NaN                 223.3   \n",
      "4                        NaN                 NaN                 144.4   \n",
      "\n",
      "   Confidence_limit_High StratificationCategory1   Stratification1 TopicID  \\\n",
      "0                  208.7               Age group  Ages 35-64 years      T1   \n",
      "1                  146.0               Age group  Ages 35-64 years      T1   \n",
      "2                  250.8               Age group  Ages 35-64 years      T1   \n",
      "3                  293.3               Age group  Ages 35-64 years      T1   \n",
      "4                  184.2               Age group  Ages 35-64 years      T1   \n",
      "\n",
      "      X_long      Y_lat  \n",
      "0 -86.646439  32.532237  \n",
      "1 -87.746067  30.659218  \n",
      "2 -85.405103  31.870253  \n",
      "3 -87.127148  33.015893  \n",
      "4 -86.566440  33.977357  \n"
     ]
    },
    {
     "name": "stderr",
     "output_type": "stream",
     "text": [
      "C:\\Users\\cabet\\AppData\\Local\\Temp\\ipykernel_17956\\128983933.py:5: DtypeWarning: Columns (1) have mixed types. Specify dtype option on import or set low_memory=False.\n",
      "  df = pd.read_csv(archivo)\n"
     ]
    }
   ],
   "source": [
    "# Ruta local del archivo CSV (ajusta si el path cambia)\n",
    "archivo = 'Cardiovascular_Disease_Death_Rates__2010-2020.csv'\n",
    "\n",
    "# Cargar el dataset\n",
    "df = pd.read_csv(archivo)\n",
    "\n",
    "# Presentamos las primeras filas\n",
    "print(df.head())"
   ]
  },
  {
   "cell_type": "code",
   "execution_count": 3,
   "id": "b7afbd08-73c5-4599-bc70-7eeff1f966a4",
   "metadata": {},
   "outputs": [
    {
     "name": "stdout",
     "output_type": "stream",
     "text": [
      "LocationID                      int64\n",
      "Year                           object\n",
      "LocationAbbr                   object\n",
      "GeographicLevel                object\n",
      "DataSource                     object\n",
      "Class                          object\n",
      "Topic                          object\n",
      "Data_Value                    float64\n",
      "Data_Value_Unit                object\n",
      "Data_Value_Type                object\n",
      "Data_Value_Footnote_Symbol     object\n",
      "Data_Value_Footnote            object\n",
      "Confidence_limit_Low          float64\n",
      "Confidence_limit_High         float64\n",
      "StratificationCategory1        object\n",
      "Stratification1                object\n",
      "TopicID                        object\n",
      "X_long                        float64\n",
      "Y_lat                         float64\n",
      "dtype: object\n"
     ]
    }
   ],
   "source": [
    "# Mostramos tipos de datos de cada columna\n",
    "print(df.dtypes)"
   ]
  },
  {
   "cell_type": "code",
   "execution_count": 4,
   "id": "921d0c93-2b37-4e3e-9d78-b2ec6a093747",
   "metadata": {},
   "outputs": [
    {
     "name": "stdout",
     "output_type": "stream",
     "text": [
      "['per 100,000' '%' nan]\n"
     ]
    }
   ],
   "source": [
    "# Revisamos los valores unicos para el atributo Data_Value_Unit\n",
    "print(df['Data_Value_Unit'].unique())"
   ]
  },
  {
   "cell_type": "code",
   "execution_count": 5,
   "id": "c2536779-c202-4448-8b94-1c3b95c4c89e",
   "metadata": {},
   "outputs": [
    {
     "name": "stdout",
     "output_type": "stream",
     "text": [
      "   Data_Value Data_Value_Unit\n",
      "0       181.0     per 100,000\n",
      "1       134.2     per 100,000\n",
      "2       223.2     per 100,000\n",
      "3       253.6     per 100,000\n",
      "4       162.6     per 100,000\n",
      "Filas restantes: 93082\n"
     ]
    }
   ],
   "source": [
    "# Eliminamos filas con NaN en Data_Value o donde la unidad sea '%'\n",
    "df_limpio = df[~(df['Data_Value'].isna() | (df['Data_Value_Unit'] == '%'))].copy()\n",
    "\n",
    "# Verificamos el resultado\n",
    "print(df_limpio[['Data_Value', 'Data_Value_Unit']].head())\n",
    "print(f\"Filas restantes: {len(df_limpio)}\")"
   ]
  },
  {
   "cell_type": "markdown",
   "id": "1100bb28-b8e1-4e9c-bbf1-b7d514ddce9f",
   "metadata": {},
   "source": [
    "Filtrar solo registros con per 100,000"
   ]
  },
  {
   "cell_type": "code",
   "execution_count": 6,
   "id": "d239cd69-e631-4848-9c2b-4cd1e83e3846",
   "metadata": {},
   "outputs": [
    {
     "name": "stdout",
     "output_type": "stream",
     "text": [
      "106818    1.004\n",
      "106819    1.035\n",
      "106820    0.998\n",
      "106821    0.991\n",
      "106822    1.035\n",
      "106823    1.055\n",
      "106824    1.026\n",
      "106825    1.042\n",
      "106826    1.034\n",
      "106827    1.010\n",
      "Name: Data_Value, dtype: float64\n"
     ]
    }
   ],
   "source": [
    "# Verificamos el resultado\n",
    "print(df_limpio['Data_Value'].tail(10))"
   ]
  },
  {
   "cell_type": "code",
   "execution_count": 7,
   "id": "1aad20ab-2fa6-46d3-bfbf-f4c7900344ef",
   "metadata": {},
   "outputs": [],
   "source": [
    "import seaborn as sns\n",
    "import matplotlib.pyplot as plt"
   ]
  },
  {
   "cell_type": "code",
   "execution_count": 8,
   "id": "c505cf97-2e00-40e1-ae75-2dd5194d8c89",
   "metadata": {},
   "outputs": [
    {
     "data": {
      "image/png": "[encoded data removed]",
      "text/plain": [
       "<Figure size 1000x400 with 1 Axes>"
      ]
     },
     "metadata": {},
     "output_type": "display_data"
    },
    {
     "name": "stdout",
     "output_type": "stream",
     "text": [
      "Cantidad de outliers: 4\n"
     ]
    }
   ],
   "source": [
    "# Usamos boxplot para visualizar los outliers\n",
    "plt.figure(figsize=(10, 4))\n",
    "sns.boxplot(x=df_limpio['Data_Value'])\n",
    "plt.title('Outliers en Data_Value')\n",
    "plt.show()\n",
    "\n",
    "# Método IQR para detectar outliers\n",
    "Q1 = df_limpio['Data_Value'].quantile(0.25)\n",
    "Q3 = df_limpio['Data_Value'].quantile(0.75)\n",
    "IQR = Q3 - Q1\n",
    "\n",
    "outliers = df_limpio[(df_limpio['Data_Value'] < Q1 - 1.5 * IQR) | (df_limpio['Data_Value'] > Q3 + 1.5 * IQR)]\n",
    "print(f\"Cantidad de outliers: {len(outliers)}\")\n"
   ]
  },
  {
   "cell_type": "code",
   "execution_count": 9,
   "id": "f021974b-3a7d-49d9-8653-530bf1e24f9c",
   "metadata": {},
   "outputs": [
    {
     "name": "stdout",
     "output_type": "stream",
     "text": [
      "   Year LocationAbbr  Data_Value\n",
      "0  2010           AK  124.065000\n",
      "1  2010           AL  219.417910\n",
      "2  2010           AR  194.564000\n",
      "3  2010           AZ  115.326667\n",
      "4  2010           CA  101.877193\n"
     ]
    }
   ],
   "source": [
    "# Filtramos los datos para el grupo de edad entre 35 y 64 años\n",
    "filtro = df_limpio[df_limpio['Stratification1'] == 'Ages 35-64 years']\n",
    "\n",
    "# Agrupamos por año, estado y sumamos los valores\n",
    "df_agrupado = filtro.groupby(['Year', 'LocationAbbr'])['Data_Value'].mean().reset_index()\n",
    "\n",
    "# Imprimimos el nuevo DataFrame\n",
    "print(df_agrupado.head())"
   ]
  },
  {
   "cell_type": "code",
   "execution_count": 10,
   "id": "6657275c-9b6b-459e-a914-176dee73a718",
   "metadata": {},
   "outputs": [
    {
     "name": "stdout",
     "output_type": "stream",
     "text": [
      "     Year LocationAbbr  Data_Value\n",
      "709  2020           VT   54.046429\n",
      "710  2020           WA   51.558442\n",
      "711  2020           WI   51.836111\n",
      "712  2020           WV   85.846364\n",
      "713  2020           WY   58.904444\n"
     ]
    }
   ],
   "source": [
    "print(df_agrupado.tail())"
   ]
  },
  {
   "cell_type": "code",
   "execution_count": 11,
   "id": "21ab0ecc-4abe-45d1-a2fe-10d37e1469c1",
   "metadata": {},
   "outputs": [
    {
     "name": "stdout",
     "output_type": "stream",
     "text": [
      "  State  Mean_Data_Value_35_64\n",
      "0    AK             100.765707\n",
      "1    AL             204.479782\n",
      "2    AR             186.373678\n",
      "3    AZ             108.061400\n",
      "4    CA              92.984326\n"
     ]
    }
   ],
   "source": [
    "# Agrupar por estado y calcular el promedio de Data_Value\n",
    "df_estado = filtro.groupby('LocationAbbr')['Data_Value'].mean().reset_index()\n",
    "\n",
    "# Renombramos la columna LocationAbbr para mayor claridad\n",
    "df_estado.rename(columns={'LocationAbbr': 'State'}, inplace=True)\n",
    "\n",
    "# Renombramos la columna Data_Value para mayor claridad\n",
    "df_estado.rename(columns={'Data_Value': 'Mean_Data_Value_35_64'}, inplace=True)\n",
    "\n",
    "# Mostramos el nuevo DataFrame\n",
    "print(df_estado.head())"
   ]
  },
  {
   "cell_type": "code",
   "execution_count": 12,
   "id": "aa45d3cc-0ac1-4729-9a05-8715a249b92e",
   "metadata": {},
   "outputs": [
    {
     "name": "stdout",
     "output_type": "stream",
     "text": [
      "0     100.7\n",
      "1     204.4\n",
      "2     186.3\n",
      "3     108.0\n",
      "4      92.9\n",
      "5      73.6\n",
      "6      72.8\n",
      "7     159.4\n",
      "8     105.2\n",
      "9     121.8\n",
      "10    168.7\n",
      "11     93.4\n",
      "12     99.9\n",
      "13     82.6\n",
      "14    116.1\n",
      "15    122.8\n",
      "16    107.5\n",
      "17    172.9\n",
      "18    184.8\n",
      "19     67.9\n",
      "20    108.7\n",
      "21     84.0\n",
      "22    110.8\n",
      "23     72.2\n",
      "24    148.5\n",
      "25    213.4\n",
      "26     93.8\n",
      "27    127.7\n",
      "28     95.9\n",
      "29     84.5\n",
      "30     78.0\n",
      "31     88.4\n",
      "32    104.0\n",
      "33    116.8\n",
      "34     92.6\n",
      "35    120.1\n",
      "36    177.6\n",
      "37     78.4\n",
      "38     99.3\n",
      "39     68.3\n",
      "40    175.4\n",
      "41     95.0\n",
      "42    177.4\n",
      "43    135.9\n",
      "44     71.6\n",
      "45    125.8\n",
      "46     78.8\n",
      "47     82.5\n",
      "48     83.0\n",
      "49    133.3\n",
      "50     92.9\n",
      "Name: Mean_Data_Value_35_64, dtype: float64\n"
     ]
    }
   ],
   "source": [
    "import numpy as np\n",
    "\n",
    "# Función para truncar a 1 decimal\n",
    "def truncar_a_un_decimal(x):\n",
    "    return np.floor(x * 10) / 10\n",
    "\n",
    "# Aplicar al campo Data_Value\n",
    "df_estado['Mean_Data_Value_35_64'] = df_estado['Mean_Data_Value_35_64'].fillna(0).apply(truncar_a_un_decimal)\n",
    "\n",
    "# Verificar resultado\n",
    "print(df_estado['Mean_Data_Value_35_64'])\n"
   ]
  },
  {
   "cell_type": "code",
   "execution_count": 13,
   "id": "ccae230d-7e0f-4e3d-a1f6-671514203b27",
   "metadata": {},
   "outputs": [],
   "source": [
    "# Exportamos a CSV para cargarlo en flourish y generar el mapa desde allí.\n",
    "df_estado.to_csv(\"Cardiovascular_Disease_Death_2010-2020_State.csv\", index=False, sep=\",\", float_format=\"%.2f\")"
   ]
  },
  {
   "cell_type": "code",
   "execution_count": 15,
   "id": "1820e065-1ca4-4d8a-b48b-68f7d65ec47e",
   "metadata": {},
   "outputs": [
    {
     "data": {
      "application/vnd.plotly.v1+json": {
       "config": {
        "plotlyServerURL": "https://plot.ly"
       },
       "data": [
        {
         "coloraxis": "coloraxis",
         "geo": "geo",
         "hovertemplate": "<b>%{location}</b><br>Death Rate: %{z:.1f}<extra></extra>",
         "locationmode": "USA-states",
         "locations": [
          "AK",
          "AL",
          "AR",
          "AZ",
          "CA",
          "CO",
          "CT",
          "DC",
          "DE",
          "FL",
          "GA",
          "HI",
          "IA",
          "ID",
          "IL",
          "IN",
          "KS",
          "KY",
          "LA",
          "MA",
          "MD",
          "ME",
          "MI",
          "MN",
          "MO",
          "MS",
          "MT",
          "NC",
          "ND",
          "NE",
          "NH",
          "NJ",
          "NM",
          "NV",
          "NY",
          "OH",
          "OK",
          "OR",
          "PA",
          "RI",
          "SC",
          "SD",
          "TN",
          "TX",
          "UT",
          "VA",
          "VT",
          "WA",
          "WI",
          "WV",
          "WY"
         ],
         "name": "",
         "type": "choropleth",
         "z": [
          100.7,
          204.4,
          186.3,
          108,
          92.9,
          73.6,
          72.8,
          159.4,
          105.2,
          121.8,
          168.7,
          93.4,
          99.9,
          82.6,
          116.1,
          122.8,
          107.5,
          172.9,
          184.8,
          67.9,
          108.7,
          84,
          110.8,
          72.2,
          148.5,
          213.4,
          93.8,
          127.7,
          95.9,
          84.5,
          78,
          88.4,
          104,
          116.8,
          92.6,
          120.1,
          177.6,
          78.4,
          99.3,
          68.3,
          175.4,
          95,
          177.4,
          135.9,
          71.6,
          125.8,
          78.8,
          82.5,
          83,
          133.3,
          92.9
         ]
        }
       ],
       "layout": {
        "coloraxis": {
         "colorbar": {
          "title": {
           "text": "Death Rate"
          }
         },
         "colorscale": [
          [
           0,
           "rgb(255,245,240)"
          ],
          [
           0.125,
           "rgb(254,224,210)"
          ],
          [
           0.25,
           "rgb(252,187,161)"
          ],
          [
           0.375,
           "rgb(252,146,114)"
          ],
          [
           0.5,
           "rgb(251,106,74)"
          ],
          [
           0.625,
           "rgb(239,59,44)"
          ],
          [
           0.75,
           "rgb(203,24,29)"
          ],
          [
           0.875,
           "rgb(165,15,21)"
          ],
          [
           1,
           "rgb(103,0,13)"
          ]
         ]
        },
        "geo": {
         "center": {
          "lat": 37.04180655115344,
          "lon": -99.24502620450323
         },
         "domain": {
          "x": [
           0,
           1
          ],
          "y": [
           0,
           1
          ]
         },
         "projection": {
          "scale": 0.7791645796604997
         },
         "scope": "usa"
        },
        "height": 700,
        "legend": {
         "tracegroupgap": 0
        },
        "template": {
         "data": {
          "bar": [
           {
            "error_x": {
             "color": "#2a3f5f"
            },
            "error_y": {
             "color": "#2a3f5f"
            },
            "marker": {
             "line": {
              "color": "#E5ECF6",
              "width": 0.5
             },
             "pattern": {
              "fillmode": "overlay",
              "size": 10,
              "solidity": 0.2
             }
            },
            "type": "bar"
           }
          ],
          "barpolar": [
           {
            "marker": {
             "line": {
              "color": "#E5ECF6",
              "width": 0.5
             },
             "pattern": {
              "fillmode": "overlay",
              "size": 10,
              "solidity": 0.2
             }
            },
            "type": "barpolar"
           }
          ],
          "carpet": [
           {
            "aaxis": {
             "endlinecolor": "#2a3f5f",
             "gridcolor": "white",
             "linecolor": "white",
             "minorgridcolor": "white",
             "startlinecolor": "#2a3f5f"
            },
            "baxis": {
             "endlinecolor": "#2a3f5f",
             "gridcolor": "white",
             "linecolor": "white",
             "minorgridcolor": "white",
             "startlinecolor": "#2a3f5f"
            },
            "type": "carpet"
           }
          ],
          "choropleth": [
           {
            "colorbar": {
             "outlinewidth": 0,
             "ticks": ""
            },
            "type": "choropleth"
           }
          ],
          "contour": [
           {
            "colorbar": {
             "outlinewidth": 0,
             "ticks": ""
            },
            "colorscale": [
             [
              0,
              "#0d0887"
             ],
             [
              0.1111111111111111,
              "#46039f"
             ],
             [
              0.2222222222222222,
              "#7201a8"
             ],
             [
              0.3333333333333333,
              "#9c179e"
             ],
             [
              0.4444444444444444,
              "#bd3786"
             ],
             [
              0.5555555555555556,
              "#d8576b"
             ],
             [
              0.6666666666666666,
              "#ed7953"
             ],
             [
              0.7777777777777778,
              "#fb9f3a"
             ],
             [
              0.8888888888888888,
              "#fdca26"
             ],
             [
              1,
              "#f0f921"
             ]
            ],
            "type": "contour"
           }
          ],
          "contourcarpet": [
           {
            "colorbar": {
             "outlinewidth": 0,
             "ticks": ""
            },
            "type": "contourcarpet"
           }
          ],
          "heatmap": [
           {
            "colorbar": {
             "outlinewidth": 0,
             "ticks": ""
            },
            "colorscale": [
             [
              0,
              "#0d0887"
             ],
             [
              0.1111111111111111,
              "#46039f"
             ],
             [
              0.2222222222222222,
              "#7201a8"
             ],
             [
              0.3333333333333333,
              "#9c179e"
             ],
             [
              0.4444444444444444,
              "#bd3786"
             ],
             [
              0.5555555555555556,
              "#d8576b"
             ],
             [
              0.6666666666666666,
              "#ed7953"
             ],
             [
              0.7777777777777778,
              "#fb9f3a"
             ],
             [
              0.8888888888888888,
              "#fdca26"
             ],
             [
              1,
              "#f0f921"
             ]
            ],
            "type": "heatmap"
           }
          ],
          "heatmapgl": [
           {
            "colorbar": {
             "outlinewidth": 0,
             "ticks": ""
            },
            "colorscale": [
             [
              0,
              "#0d0887"
             ],
             [
              0.1111111111111111,
              "#46039f"
             ],
             [
              0.2222222222222222,
              "#7201a8"
             ],
             [
              0.3333333333333333,
              "#9c179e"
             ],
             [
              0.4444444444444444,
              "#bd3786"
             ],
             [
              0.5555555555555556,
              "#d8576b"
             ],
             [
              0.6666666666666666,
              "#ed7953"
             ],
             [
              0.7777777777777778,
              "#fb9f3a"
             ],
             [
              0.8888888888888888,
              "#fdca26"
             ],
             [
              1,
              "#f0f921"
             ]
            ],
            "type": "heatmapgl"
           }
          ],
          "histogram": [
           {
            "marker": {
             "pattern": {
              "fillmode": "overlay",
              "size": 10,
              "solidity": 0.2
             }
            },
            "type": "histogram"
           }
          ],
          "histogram2d": [
           {
            "colorbar": {
             "outlinewidth": 0,
             "ticks": ""
            },
            "colorscale": [
             [
              0,
              "#0d0887"
             ],
             [
              0.1111111111111111,
              "#46039f"
             ],
             [
              0.2222222222222222,
              "#7201a8"
             ],
             [
              0.3333333333333333,
              "#9c179e"
             ],
             [
              0.4444444444444444,
              "#bd3786"
             ],
             [
              0.5555555555555556,
              "#d8576b"
             ],
             [
              0.6666666666666666,
              "#ed7953"
             ],
             [
              0.7777777777777778,
              "#fb9f3a"
             ],
             [
              0.8888888888888888,
              "#fdca26"
             ],
             [
              1,
              "#f0f921"
             ]
            ],
            "type": "histogram2d"
           }
          ],
          "histogram2dcontour": [
           {
            "colorbar": {
             "outlinewidth": 0,
             "ticks": ""
            },
            "colorscale": [
             [
              0,
              "#0d0887"
             ],
             [
              0.1111111111111111,
              "#46039f"
             ],
             [
              0.2222222222222222,
              "#7201a8"
             ],
             [
              0.3333333333333333,
              "#9c179e"
             ],
             [
              0.4444444444444444,
              "#bd3786"
             ],
             [
              0.5555555555555556,
              "#d8576b"
             ],
             [
              0.6666666666666666,
              "#ed7953"
             ],
             [
              0.7777777777777778,
              "#fb9f3a"
             ],
             [
              0.8888888888888888,
              "#fdca26"
             ],
             [
              1,
              "#f0f921"
             ]
            ],
            "type": "histogram2dcontour"
           }
          ],
          "mesh3d": [
           {
            "colorbar": {
             "outlinewidth": 0,
             "ticks": ""
            },
            "type": "mesh3d"
           }
          ],
          "parcoords": [
           {
            "line": {
             "colorbar": {
              "outlinewidth": 0,
              "ticks": ""
             }
            },
            "type": "parcoords"
           }
          ],
          "pie": [
           {
            "automargin": true,
            "type": "pie"
           }
          ],
          "scatter": [
           {
            "fillpattern": {
             "fillmode": "overlay",
             "size": 10,
             "solidity": 0.2
            },
            "type": "scatter"
           }
          ],
          "scatter3d": [
           {
            "line": {
             "colorbar": {
              "outlinewidth": 0,
              "ticks": ""
             }
            },
            "marker": {
             "colorbar": {
              "outlinewidth": 0,
              "ticks": ""
             }
            },
            "type": "scatter3d"
           }
          ],
          "scattercarpet": [
           {
            "marker": {
             "colorbar": {
              "outlinewidth": 0,
              "ticks": ""
             }
            },
            "type": "scattercarpet"
           }
          ],
          "scattergeo": [
           {
            "marker": {
             "colorbar": {
              "outlinewidth": 0,
              "ticks": ""
             }
            },
            "type": "scattergeo"
           }
          ],
          "scattergl": [
           {
            "marker": {
             "colorbar": {
              "outlinewidth": 0,
              "ticks": ""
             }
            },
            "type": "scattergl"
           }
          ],
          "scattermapbox": [
           {
            "marker": {
             "colorbar": {
              "outlinewidth": 0,
              "ticks": ""
             }
            },
            "type": "scattermapbox"
           }
          ],
          "scatterpolar": [
           {
            "marker": {
             "colorbar": {
              "outlinewidth": 0,
              "ticks": ""
             }
            },
            "type": "scatterpolar"
           }
          ],
          "scatterpolargl": [
           {
            "marker": {
             "colorbar": {
              "outlinewidth": 0,
              "ticks": ""
             }
            },
            "type": "scatterpolargl"
           }
          ],
          "scatterternary": [
           {
            "marker": {
             "colorbar": {
              "outlinewidth": 0,
              "ticks": ""
             }
            },
            "type": "scatterternary"
           }
          ],
          "surface": [
           {
            "colorbar": {
             "outlinewidth": 0,
             "ticks": ""
            },
            "colorscale": [
             [
              0,
              "#0d0887"
             ],
             [
              0.1111111111111111,
              "#46039f"
             ],
             [
              0.2222222222222222,
              "#7201a8"
             ],
             [
              0.3333333333333333,
              "#9c179e"
             ],
             [
              0.4444444444444444,
              "#bd3786"
             ],
             [
              0.5555555555555556,
              "#d8576b"
             ],
             [
              0.6666666666666666,
              "#ed7953"
             ],
             [
              0.7777777777777778,
              "#fb9f3a"
             ],
             [
              0.8888888888888888,
              "#fdca26"
             ],
             [
              1,
              "#f0f921"
             ]
            ],
            "type": "surface"
           }
          ],
          "table": [
           {
            "cells": {
             "fill": {
              "color": "#EBF0F8"
             },
             "line": {
              "color": "white"
             }
            },
            "header": {
             "fill": {
              "color": "#C8D4E3"
             },
             "line": {
              "color": "white"
             }
            },
            "type": "table"
           }
          ]
         },
         "layout": {
          "annotationdefaults": {
           "arrowcolor": "#2a3f5f",
           "arrowhead": 0,
           "arrowwidth": 1
          },
          "autotypenumbers": "strict",
          "coloraxis": {
           "colorbar": {
            "outlinewidth": 0,
            "ticks": ""
           }
          },
          "colorscale": {
           "diverging": [
            [
             0,
             "#8e0152"
            ],
            [
             0.1,
             "#c51b7d"
            ],
            [
             0.2,
             "#de77ae"
            ],
            [
             0.3,
             "#f1b6da"
            ],
            [
             0.4,
             "#fde0ef"
            ],
            [
             0.5,
             "#f7f7f7"
            ],
            [
             0.6,
             "#e6f5d0"
            ],
            [
             0.7,
             "#b8e186"
            ],
            [
             0.8,
             "#7fbc41"
            ],
            [
             0.9,
             "#4d9221"
            ],
            [
             1,
             "#276419"
            ]
           ],
           "sequential": [
            [
             0,
             "#0d0887"
            ],
            [
             0.1111111111111111,
             "#46039f"
            ],
            [
             0.2222222222222222,
             "#7201a8"
            ],
            [
             0.3333333333333333,
             "#9c179e"
            ],
            [
             0.4444444444444444,
             "#bd3786"
            ],
            [
             0.5555555555555556,
             "#d8576b"
            ],
            [
             0.6666666666666666,
             "#ed7953"
            ],
            [
             0.7777777777777778,
             "#fb9f3a"
            ],
            [
             0.8888888888888888,
             "#fdca26"
            ],
            [
             1,
             "#f0f921"
            ]
           ],
           "sequentialminus": [
            [
             0,
             "#0d0887"
            ],
            [
             0.1111111111111111,
             "#46039f"
            ],
            [
             0.2222222222222222,
             "#7201a8"
            ],
            [
             0.3333333333333333,
             "#9c179e"
            ],
            [
             0.4444444444444444,
             "#bd3786"
            ],
            [
             0.5555555555555556,
             "#d8576b"
            ],
            [
             0.6666666666666666,
             "#ed7953"
            ],
            [
             0.7777777777777778,
             "#fb9f3a"
            ],
            [
             0.8888888888888888,
             "#fdca26"
            ],
            [
             1,
             "#f0f921"
            ]
           ]
          },
          "colorway": [
           "#636efa",
           "#EF553B",
           "#00cc96",
           "#ab63fa",
           "#FFA15A",
           "#19d3f3",
           "#FF6692",
           "#B6E880",
           "#FF97FF",
           "#FECB52"
          ],
          "font": {
           "color": "#2a3f5f"
          },
          "geo": {
           "bgcolor": "white",
           "lakecolor": "white",
           "landcolor": "#E5ECF6",
           "showlakes": true,
           "showland": true,
           "subunitcolor": "white"
          },
          "hoverlabel": {
           "align": "left"
          },
          "hovermode": "closest",
          "mapbox": {
           "style": "light"
          },
          "paper_bgcolor": "white",
          "plot_bgcolor": "#E5ECF6",
          "polar": {
           "angularaxis": {
            "gridcolor": "white",
            "linecolor": "white",
            "ticks": ""
           },
           "bgcolor": "#E5ECF6",
           "radialaxis": {
            "gridcolor": "white",
            "linecolor": "white",
            "ticks": ""
           }
          },
          "scene": {
           "xaxis": {
            "backgroundcolor": "#E5ECF6",
            "gridcolor": "white",
            "gridwidth": 2,
            "linecolor": "white",
            "showbackground": true,
            "ticks": "",
            "zerolinecolor": "white"
           },
           "yaxis": {
            "backgroundcolor": "#E5ECF6",
            "gridcolor": "white",
            "gridwidth": 2,
            "linecolor": "white",
            "showbackground": true,
            "ticks": "",
            "zerolinecolor": "white"
           },
           "zaxis": {
            "backgroundcolor": "#E5ECF6",
            "gridcolor": "white",
            "gridwidth": 2,
            "linecolor": "white",
            "showbackground": true,
            "ticks": "",
            "zerolinecolor": "white"
           }
          },
          "shapedefaults": {
           "line": {
            "color": "#2a3f5f"
           }
          },
          "ternary": {
           "aaxis": {
            "gridcolor": "white",
            "linecolor": "white",
            "ticks": ""
           },
           "baxis": {
            "gridcolor": "white",
            "linecolor": "white",
            "ticks": ""
           },
           "bgcolor": "#E5ECF6",
           "caxis": {
            "gridcolor": "white",
            "linecolor": "white",
            "ticks": ""
           }
          },
          "title": {
           "x": 0.05
          },
          "xaxis": {
           "automargin": true,
           "gridcolor": "white",
           "linecolor": "white",
           "ticks": "",
           "title": {
            "standoff": 15
           },
           "zerolinecolor": "white",
           "zerolinewidth": 2
          },
          "yaxis": {
           "automargin": true,
           "gridcolor": "white",
           "linecolor": "white",
           "ticks": "",
           "title": {
            "standoff": 15
           },
           "zerolinecolor": "white",
           "zerolinewidth": 2
          }
         }
        },
        "title": {
         "font": {
          "size": 24
         },
         "text": "Cardiovascular Death Rate (Ages 35–64) by U.S. State (2010–2020)"
        },
        "width": 1000
       }
      },
      "image/png": "[encoded data removed]",
      "text/html": [
       "<div>                            <div id=\"7c4d6177-ddbb-41c3-b971-b82b1078e9cb\" class=\"plotly-graph-div\" style=\"height:700px; width:1000px;\"></div>            <script type=\"text/javascript\">                require([\"plotly\"], function(Plotly) {                    window.PLOTLYENV=window.PLOTLYENV || {};                                    if (document.getElementById(\"7c4d6177-ddbb-41c3-b971-b82b1078e9cb\")) {                    Plotly.newPlot(                        \"7c4d6177-ddbb-41c3-b971-b82b1078e9cb\",                        [{\"coloraxis\":\"coloraxis\",\"geo\":\"geo\",\"hovertemplate\":\"\\u003cb\\u003e%{location}\\u003c\\u002fb\\u003e\\u003cbr\\u003eDeath Rate: %{z:.1f}\\u003cextra\\u003e\\u003c\\u002fextra\\u003e\",\"locationmode\":\"USA-states\",\"locations\":[\"AK\",\"AL\",\"AR\",\"AZ\",\"CA\",\"CO\",\"CT\",\"DC\",\"DE\",\"FL\",\"GA\",\"HI\",\"IA\",\"ID\",\"IL\",\"IN\",\"KS\",\"KY\",\"LA\",\"MA\",\"MD\",\"ME\",\"MI\",\"MN\",\"MO\",\"MS\",\"MT\",\"NC\",\"ND\",\"NE\",\"NH\",\"NJ\",\"NM\",\"NV\",\"NY\",\"OH\",\"OK\",\"OR\",\"PA\",\"RI\",\"SC\",\"SD\",\"TN\",\"TX\",\"UT\",\"VA\",\"VT\",\"WA\",\"WI\",\"WV\",\"WY\"],\"name\":\"\",\"z\":[100.7,204.4,186.3,108.0,92.9,73.6,72.8,159.4,105.2,121.8,168.7,93.4,99.9,82.6,116.1,122.8,107.5,172.9,184.8,67.9,108.7,84.0,110.8,72.2,148.5,213.4,93.8,127.7,95.9,84.5,78.0,88.4,104.0,116.8,92.6,120.1,177.6,78.4,99.3,68.3,175.4,95.0,177.4,135.9,71.6,125.8,78.8,82.5,83.0,133.3,92.9],\"type\":\"choropleth\"}],                        {\"template\":{\"data\":{\"histogram2dcontour\":[{\"type\":\"histogram2dcontour\",\"colorbar\":{\"outlinewidth\":0,\"ticks\":\"\"},\"colorscale\":[[0.0,\"#0d0887\"],[0.1111111111111111,\"#46039f\"],[0.2222222222222222,\"#7201a8\"],[0.3333333333333333,\"#9c179e\"],[0.4444444444444444,\"#bd3786\"],[0.5555555555555556,\"#d8576b\"],[0.6666666666666666,\"#ed7953\"],[0.7777777777777778,\"#fb9f3a\"],[0.8888888888888888,\"#fdca26\"],[1.0,\"#f0f921\"]]}],\"choropleth\":[{\"type\":\"choropleth\",\"colorbar\":{\"outlinewidth\":0,\"ticks\":\"\"}}],\"histogram2d\":[{\"type\":\"histogram2d\",\"colorbar\":{\"outlinewidth\":0,\"ticks\":\"\"},\"colorscale\":[[0.0,\"#0d0887\"],[0.1111111111111111,\"#46039f\"],[0.2222222222222222,\"#7201a8\"],[0.3333333333333333,\"#9c179e\"],[0.4444444444444444,\"#bd3786\"],[0.5555555555555556,\"#d8576b\"],[0.6666666666666666,\"#ed7953\"],[0.7777777777777778,\"#fb9f3a\"],[0.8888888888888888,\"#fdca26\"],[1.0,\"#f0f921\"]]}],\"heatmap\":[{\"type\":\"heatmap\",\"colorbar\":{\"outlinewidth\":0,\"ticks\":\"\"},\"colorscale\":[[0.0,\"#0d0887\"],[0.1111111111111111,\"#46039f\"],[0.2222222222222222,\"#7201a8\"],[0.3333333333333333,\"#9c179e\"],[0.4444444444444444,\"#bd3786\"],[0.5555555555555556,\"#d8576b\"],[0.6666666666666666,\"#ed7953\"],[0.7777777777777778,\"#fb9f3a\"],[0.8888888888888888,\"#fdca26\"],[1.0,\"#f0f921\"]]}],\"heatmapgl\":[{\"type\":\"heatmapgl\",\"colorbar\":{\"outlinewidth\":0,\"ticks\":\"\"},\"colorscale\":[[0.0,\"#0d0887\"],[0.1111111111111111,\"#46039f\"],[0.2222222222222222,\"#7201a8\"],[0.3333333333333333,\"#9c179e\"],[0.4444444444444444,\"#bd3786\"],[0.5555555555555556,\"#d8576b\"],[0.6666666666666666,\"#ed7953\"],[0.7777777777777778,\"#fb9f3a\"],[0.8888888888888888,\"#fdca26\"],[1.0,\"#f0f921\"]]}],\"contourcarpet\":[{\"type\":\"contourcarpet\",\"colorbar\":{\"outlinewidth\":0,\"ticks\":\"\"}}],\"contour\":[{\"type\":\"contour\",\"colorbar\":{\"outlinewidth\":0,\"ticks\":\"\"},\"colorscale\":[[0.0,\"#0d0887\"],[0.1111111111111111,\"#46039f\"],[0.2222222222222222,\"#7201a8\"],[0.3333333333333333,\"#9c179e\"],[0.4444444444444444,\"#bd3786\"],[0.5555555555555556,\"#d8576b\"],[0.6666666666666666,\"#ed7953\"],[0.7777777777777778,\"#fb9f3a\"],[0.8888888888888888,\"#fdca26\"],[1.0,\"#f0f921\"]]}],\"surface\":[{\"type\":\"surface\",\"colorbar\":{\"outlinewidth\":0,\"ticks\":\"\"},\"colorscale\":[[0.0,\"#0d0887\"],[0.1111111111111111,\"#46039f\"],[0.2222222222222222,\"#7201a8\"],[0.3333333333333333,\"#9c179e\"],[0.4444444444444444,\"#bd3786\"],[0.5555555555555556,\"#d8576b\"],[0.6666666666666666,\"#ed7953\"],[0.7777777777777778,\"#fb9f3a\"],[0.8888888888888888,\"#fdca26\"],[1.0,\"#f0f921\"]]}],\"mesh3d\":[{\"type\":\"mesh3d\",\"colorbar\":{\"outlinewidth\":0,\"ticks\":\"\"}}],\"scatter\":[{\"fillpattern\":{\"fillmode\":\"overlay\",\"size\":10,\"solidity\":0.2},\"type\":\"scatter\"}],\"parcoords\":[{\"type\":\"parcoords\",\"line\":{\"colorbar\":{\"outlinewidth\":0,\"ticks\":\"\"}}}],\"scatterpolargl\":[{\"type\":\"scatterpolargl\",\"marker\":{\"colorbar\":{\"outlinewidth\":0,\"ticks\":\"\"}}}],\"bar\":[{\"error_x\":{\"color\":\"#2a3f5f\"},\"error_y\":{\"color\":\"#2a3f5f\"},\"marker\":{\"line\":{\"color\":\"#E5ECF6\",\"width\":0.5},\"pattern\":{\"fillmode\":\"overlay\",\"size\":10,\"solidity\":0.2}},\"type\":\"bar\"}],\"scattergeo\":[{\"type\":\"scattergeo\",\"marker\":{\"colorbar\":{\"outlinewidth\":0,\"ticks\":\"\"}}}],\"scatterpolar\":[{\"type\":\"scatterpolar\",\"marker\":{\"colorbar\":{\"outlinewidth\":0,\"ticks\":\"\"}}}],\"histogram\":[{\"marker\":{\"pattern\":{\"fillmode\":\"overlay\",\"size\":10,\"solidity\":0.2}},\"type\":\"histogram\"}],\"scattergl\":[{\"type\":\"scattergl\",\"marker\":{\"colorbar\":{\"outlinewidth\":0,\"ticks\":\"\"}}}],\"scatter3d\":[{\"type\":\"scatter3d\",\"line\":{\"colorbar\":{\"outlinewidth\":0,\"ticks\":\"\"}},\"marker\":{\"colorbar\":{\"outlinewidth\":0,\"ticks\":\"\"}}}],\"scattermapbox\":[{\"type\":\"scattermapbox\",\"marker\":{\"colorbar\":{\"outlinewidth\":0,\"ticks\":\"\"}}}],\"scatterternary\":[{\"type\":\"scatterternary\",\"marker\":{\"colorbar\":{\"outlinewidth\":0,\"ticks\":\"\"}}}],\"scattercarpet\":[{\"type\":\"scattercarpet\",\"marker\":{\"colorbar\":{\"outlinewidth\":0,\"ticks\":\"\"}}}],\"carpet\":[{\"aaxis\":{\"endlinecolor\":\"#2a3f5f\",\"gridcolor\":\"white\",\"linecolor\":\"white\",\"minorgridcolor\":\"white\",\"startlinecolor\":\"#2a3f5f\"},\"baxis\":{\"endlinecolor\":\"#2a3f5f\",\"gridcolor\":\"white\",\"linecolor\":\"white\",\"minorgridcolor\":\"white\",\"startlinecolor\":\"#2a3f5f\"},\"type\":\"carpet\"}],\"table\":[{\"cells\":{\"fill\":{\"color\":\"#EBF0F8\"},\"line\":{\"color\":\"white\"}},\"header\":{\"fill\":{\"color\":\"#C8D4E3\"},\"line\":{\"color\":\"white\"}},\"type\":\"table\"}],\"barpolar\":[{\"marker\":{\"line\":{\"color\":\"#E5ECF6\",\"width\":0.5},\"pattern\":{\"fillmode\":\"overlay\",\"size\":10,\"solidity\":0.2}},\"type\":\"barpolar\"}],\"pie\":[{\"automargin\":true,\"type\":\"pie\"}]},\"layout\":{\"autotypenumbers\":\"strict\",\"colorway\":[\"#636efa\",\"#EF553B\",\"#00cc96\",\"#ab63fa\",\"#FFA15A\",\"#19d3f3\",\"#FF6692\",\"#B6E880\",\"#FF97FF\",\"#FECB52\"],\"font\":{\"color\":\"#2a3f5f\"},\"hovermode\":\"closest\",\"hoverlabel\":{\"align\":\"left\"},\"paper_bgcolor\":\"white\",\"plot_bgcolor\":\"#E5ECF6\",\"polar\":{\"bgcolor\":\"#E5ECF6\",\"angularaxis\":{\"gridcolor\":\"white\",\"linecolor\":\"white\",\"ticks\":\"\"},\"radialaxis\":{\"gridcolor\":\"white\",\"linecolor\":\"white\",\"ticks\":\"\"}},\"ternary\":{\"bgcolor\":\"#E5ECF6\",\"aaxis\":{\"gridcolor\":\"white\",\"linecolor\":\"white\",\"ticks\":\"\"},\"baxis\":{\"gridcolor\":\"white\",\"linecolor\":\"white\",\"ticks\":\"\"},\"caxis\":{\"gridcolor\":\"white\",\"linecolor\":\"white\",\"ticks\":\"\"}},\"coloraxis\":{\"colorbar\":{\"outlinewidth\":0,\"ticks\":\"\"}},\"colorscale\":{\"sequential\":[[0.0,\"#0d0887\"],[0.1111111111111111,\"#46039f\"],[0.2222222222222222,\"#7201a8\"],[0.3333333333333333,\"#9c179e\"],[0.4444444444444444,\"#bd3786\"],[0.5555555555555556,\"#d8576b\"],[0.6666666666666666,\"#ed7953\"],[0.7777777777777778,\"#fb9f3a\"],[0.8888888888888888,\"#fdca26\"],[1.0,\"#f0f921\"]],\"sequentialminus\":[[0.0,\"#0d0887\"],[0.1111111111111111,\"#46039f\"],[0.2222222222222222,\"#7201a8\"],[0.3333333333333333,\"#9c179e\"],[0.4444444444444444,\"#bd3786\"],[0.5555555555555556,\"#d8576b\"],[0.6666666666666666,\"#ed7953\"],[0.7777777777777778,\"#fb9f3a\"],[0.8888888888888888,\"#fdca26\"],[1.0,\"#f0f921\"]],\"diverging\":[[0,\"#8e0152\"],[0.1,\"#c51b7d\"],[0.2,\"#de77ae\"],[0.3,\"#f1b6da\"],[0.4,\"#fde0ef\"],[0.5,\"#f7f7f7\"],[0.6,\"#e6f5d0\"],[0.7,\"#b8e186\"],[0.8,\"#7fbc41\"],[0.9,\"#4d9221\"],[1,\"#276419\"]]},\"xaxis\":{\"gridcolor\":\"white\",\"linecolor\":\"white\",\"ticks\":\"\",\"title\":{\"standoff\":15},\"zerolinecolor\":\"white\",\"automargin\":true,\"zerolinewidth\":2},\"yaxis\":{\"gridcolor\":\"white\",\"linecolor\":\"white\",\"ticks\":\"\",\"title\":{\"standoff\":15},\"zerolinecolor\":\"white\",\"automargin\":true,\"zerolinewidth\":2},\"scene\":{\"xaxis\":{\"backgroundcolor\":\"#E5ECF6\",\"gridcolor\":\"white\",\"linecolor\":\"white\",\"showbackground\":true,\"ticks\":\"\",\"zerolinecolor\":\"white\",\"gridwidth\":2},\"yaxis\":{\"backgroundcolor\":\"#E5ECF6\",\"gridcolor\":\"white\",\"linecolor\":\"white\",\"showbackground\":true,\"ticks\":\"\",\"zerolinecolor\":\"white\",\"gridwidth\":2},\"zaxis\":{\"backgroundcolor\":\"#E5ECF6\",\"gridcolor\":\"white\",\"linecolor\":\"white\",\"showbackground\":true,\"ticks\":\"\",\"zerolinecolor\":\"white\",\"gridwidth\":2}},\"shapedefaults\":{\"line\":{\"color\":\"#2a3f5f\"}},\"annotationdefaults\":{\"arrowcolor\":\"#2a3f5f\",\"arrowhead\":0,\"arrowwidth\":1},\"geo\":{\"bgcolor\":\"white\",\"landcolor\":\"#E5ECF6\",\"subunitcolor\":\"white\",\"showland\":true,\"showlakes\":true,\"lakecolor\":\"white\"},\"title\":{\"x\":0.05},\"mapbox\":{\"style\":\"light\"}}},\"geo\":{\"domain\":{\"x\":[0.0,1.0],\"y\":[0.0,1.0]},\"center\":{},\"scope\":\"usa\"},\"coloraxis\":{\"colorbar\":{\"title\":{\"text\":\"Death Rate\"}},\"colorscale\":[[0.0,\"rgb(255,245,240)\"],[0.125,\"rgb(254,224,210)\"],[0.25,\"rgb(252,187,161)\"],[0.375,\"rgb(252,146,114)\"],[0.5,\"rgb(251,106,74)\"],[0.625,\"rgb(239,59,44)\"],[0.75,\"rgb(203,24,29)\"],[0.875,\"rgb(165,15,21)\"],[1.0,\"rgb(103,0,13)\"]]},\"legend\":{\"tracegroupgap\":0},\"title\":{\"text\":\"Cardiovascular Death Rate (Ages 35\\u201364) by U.S. State (2010\\u20132020)\",\"font\":{\"size\":24}},\"width\":1000,\"height\":700},                        {\"responsive\": true}                    ).then(function(){\n",
       "                            \n",
       "var gd = document.getElementById('7c4d6177-ddbb-41c3-b971-b82b1078e9cb');\n",
       "var x = new MutationObserver(function (mutations, observer) {{\n",
       "        var display = window.getComputedStyle(gd).display;\n",
       "        if (!display || display === 'none') {{\n",
       "            console.log([gd, 'removed!']);\n",
       "            Plotly.purge(gd);\n",
       "            observer.disconnect();\n",
       "        }}\n",
       "}});\n",
       "\n",
       "// Listen for the removal of the full notebook cells\n",
       "var notebookContainer = gd.closest('#notebook-container');\n",
       "if (notebookContainer) {{\n",
       "    x.observe(notebookContainer, {childList: true});\n",
       "}}\n",
       "\n",
       "// Listen for the clearing of the current output cell\n",
       "var outputEl = gd.closest('.output');\n",
       "if (outputEl) {{\n",
       "    x.observe(outputEl, {childList: true});\n",
       "}}\n",
       "\n",
       "                        })                };                });            </script>        </div>"
      ]
     },
     "metadata": {},
     "output_type": "display_data"
    }
   ],
   "source": [
    "import plotly.express as px\n",
    "\n",
    "# Creamos el mapa\n",
    "fig = px.choropleth(\n",
    "    df_estado,\n",
    "    locations='State',\n",
    "    locationmode='USA-states',\n",
    "    color='Mean_Data_Value_35_64',\n",
    "    scope='usa',\n",
    "    color_continuous_scale='Reds',\n",
    "    labels={'Mean_Data_Value_35_64': 'Death Rate'},  # sin el %\n",
    "    title='Cardiovascular Death Rate (Ages 35–64) by U.S. State (2010–2020)'\n",
    ")\n",
    "\n",
    "# Aumentamos tamaño del mapa\n",
    "fig.update_layout(\n",
    "    width=1000,\n",
    "    height=700,\n",
    "    title_font_size=24\n",
    ")\n",
    "\n",
    "fig.update_coloraxes(colorbar_title='Death Rate')\n",
    "\n",
    "# Personalizamos el hover para mostrar el valor\n",
    "fig.update_traces(\n",
    "    hovertemplate='<b>%{location}</b><br>Death Rate: %{z:.1f}<extra></extra>'\n",
    ")\n",
    "\n",
    "fig.show()\n"
   ]
  },
  {
   "cell_type": "markdown",
   "id": "b2973afe-c3f2-4822-9b50-7e5a5355232b",
   "metadata": {},
   "source": [
    "Con el dataframe exportado a CSV en el archivo  **Cardiovascular_Disease_Death_2010-2020_State.csv** procedemos a generar el mapa en herramienta flourish. El cual se puede encontrar en: https://public.flourish.studio/visualisation/22431535/"
   ]
  },
  {
   "cell_type": "code",
   "execution_count": null,
   "id": "77f143ce-d067-4d77-af31-0c8f790a2525",
   "metadata": {},
   "outputs": [],
   "source": []
  }
 ],
 "metadata": {
  "kernelspec": {
   "display_name": "Python 3 (ipykernel)",
   "language": "python",
   "name": "python3"
  },
  "language_info": {
   "codemirror_mode": {
    "name": "ipython",
    "version": 3
   },
   "file_extension": ".py",
   "mimetype": "text/x-python",
   "name": "python",
   "nbconvert_exporter": "python",
   "pygments_lexer": "ipython3",
   "version": "3.12.7"
  }
 },
 "nbformat": 4,
 "nbformat_minor": 5
}
